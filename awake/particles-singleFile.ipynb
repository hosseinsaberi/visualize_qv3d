{
 "cells": [
  {
   "cell_type": "code",
   "execution_count": 1,
   "id": "87684ea2-8a3b-4d1f-a0fd-43b33ef53ea8",
   "metadata": {},
   "outputs": [],
   "source": [
    "simulation_directory = \"/home/novac/Desktop/qv3d-automation/simulation-7.03e14\"\n",
    "file_number = 11\n",
    "\n",
    "fontsize = 14"
   ]
  },
  {
   "cell_type": "code",
   "execution_count": 2,
   "id": "9bf437ce-2d5f-45b7-a105-c67886a16ffc",
   "metadata": {},
   "outputs": [],
   "source": [
    "import sys\n",
    "import os\n",
    "import glob\n",
    "\n",
    "import numpy as np\n",
    "import matplotlib.pyplot as plt\n",
    "from scipy.constants import c, pi, e, m_e, epsilon_0\n",
    "E0 = 0.5110e6  # [eV] electron rest energy\n",
    "\n",
    "import sys\n",
    "sys.path.append('/home/novac/Desktop/qv3d-automation/pyScripts/')\n",
    "from particles import getParameters, calculateParameters"
   ]
  },
  {
   "cell_type": "code",
   "execution_count": 3,
   "id": "9b09f3ca-6d09-4604-b490-5bdcc9ede13b",
   "metadata": {},
   "outputs": [],
   "source": [
    "# Get the parent directory\n",
    "parent_directory = os.path.abspath(os.path.join(simulation_directory, os.pardir))\n",
    "em_dotpy = os.path.join(parent_directory, 'pyScripts', 'em.py')"
   ]
  },
  {
   "cell_type": "code",
   "execution_count": 4,
   "id": "a58d67de-617c-4aec-b921-d7efa749f9be",
   "metadata": {},
   "outputs": [],
   "source": [
    "witness_values = !python {em_dotpy} -ol {simulation_directory} {file_number} 2\n",
    "# witness_headers = !python {em_dotpy} -oH {simulation_directory} {file_number} 2  # unblock to know the variables\n",
    "\n",
    "driver_values = !python {em_dotpy} -ol {simulation_directory} {file_number} 1\n",
    "#driver_headers = !python {em_dotpy} -oH {simulation_directory} {file_number} 1  # unblock to know the variables"
   ]
  },
  {
   "cell_type": "code",
   "execution_count": 5,
   "id": "e9cbe78a-2c29-4f06-9c22-1ad5baf48d95",
   "metadata": {},
   "outputs": [],
   "source": [
    "phase, wmg, stdev_g, W, lamdap, emittance, lamdap=getParameters(witness_values[0])\n",
    "energy, energySpread, dist, charge = calculateParameters(phase,wmg,stdev_g,W,lamdap)"
   ]
  },
  {
   "cell_type": "code",
   "execution_count": null,
   "id": "e8e2a441-acfa-445a-9e78-1c6836bc7911",
   "metadata": {},
   "outputs": [],
   "source": [
    "# along the acceleration\n",
    "h5file_directory = os.path.join(simulation_directory, 'h5files')\n",
    "\n",
    "\n",
    "# Define the pattern to match files starting with 'vs'\n",
    "pattern = os.path.join(h5file_directory, 'vs*')\n",
    "\n",
    "# Use glob to find all files matching the pattern\n",
    "matching_files = glob.glob(pattern)\n",
    "\n",
    "# Print the matching files\n",
    "num_phases = 0\n",
    "for file in matching_files:\n",
    "    #print(file)\n",
    "    num_phases = num_phases + 1\n",
    "print('number of phases (files) are)', num_phases)"
   ]
  },
  {
   "cell_type": "code",
   "execution_count": null,
   "id": "a063a967-b76a-4844-aed8-470f6e00e1ca",
   "metadata": {},
   "outputs": [],
   "source": [
    "energys = np.array([])\n",
    "energySpreads = np.array([])\n",
    "dists = np.array([])\n",
    "charges = np.array([])\n",
    "\n",
    "for i in range(num_phases):\n",
    "    file_number = i + 1\n",
    "    print('file number is ', file_number, end=\"\\r\")\n",
    "    witness_values = !python {em_dotpy} -ol {simulation_directory} {file_number} 2\n",
    "    driver_values = !python {em_dotpy} -ol {simulation_directory} {file_number} 1\n",
    "    phase,wmg,stdev_g,W,lamdap,emittance,lamdap=getParameters(witness_values[0])\n",
    "    energy, energySpread, dist, charge = calculateParameters(phase,wmg,stdev_g,W,lamdap)\n",
    "    energys  = np.append(energys, energy)\n",
    "    energySpreads = np.append(energySpreads, energySpread)\n",
    "    dists = np.append(dists, dist)\n",
    "    charges = np.append(charges, charge)"
   ]
  },
  {
   "cell_type": "markdown",
   "id": "12f31335-a353-4495-9c96-0e3723b524ac",
   "metadata": {},
   "source": [
    "### Plot energy"
   ]
  },
  {
   "cell_type": "code",
   "execution_count": null,
   "id": "fbbd80fa-12db-44b1-ac76-6b6eddf303b6",
   "metadata": {},
   "outputs": [],
   "source": [
    "fontsize = 14\n",
    "fig, ax = plt.subplots(figsize=(7,4))\n",
    "fig.tight_layout(pad=4.)\n",
    "ax.plot(dists, energys/1e9, c='r', label='witness')\n",
    "#ax.plot(driverDist*100, driverEnergy/1e6, c='b', label='driver')\n",
    "    #ax.set_xlim(0,25)\n",
    "    #ax.set_ylim(0, 500)\n",
    "ax.set_xlabel('x [cm]', fontsize=fontsize)\n",
    "ax.set_ylabel('Energy [GeV]', fontsize=fontsize)\n",
    "    #ax.set_xticks(range(0, 26, 5))\n",
    "    #ax.set_yticks(range(0, 501, 100))\n",
    "plt.legend(labels=['witness', 'driver'], loc='lower left')\n",
    "ax.grid(True, linestyle='--', color='gray', alpha=0.5)\n",
    "plt.savefig(\"particles-singleFile-energy.pdf\", dpi=100, bbox_inches='tight')\n",
    "plt.savefig(\"particles-singleFile-energy.png\", dpi=100, bbox_inches='tight')"
   ]
  },
  {
   "cell_type": "code",
   "execution_count": null,
   "id": "2e7d43c2-7edf-47b3-8d4b-6c8584cefbf0",
   "metadata": {},
   "outputs": [],
   "source": []
  }
 ],
 "metadata": {
  "kernelspec": {
   "display_name": "Python 3 (ipykernel)",
   "language": "python",
   "name": "python3"
  },
  "language_info": {
   "codemirror_mode": {
    "name": "ipython",
    "version": 3
   },
   "file_extension": ".py",
   "mimetype": "text/x-python",
   "name": "python",
   "nbconvert_exporter": "python",
   "pygments_lexer": "ipython3",
   "version": "3.9.19"
  }
 },
 "nbformat": 4,
 "nbformat_minor": 5
}
