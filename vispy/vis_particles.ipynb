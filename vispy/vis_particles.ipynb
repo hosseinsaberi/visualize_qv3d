{
 "cells": [
  {
   "cell_type": "code",
   "execution_count": 10,
   "id": "9ca5e2d4-2ed3-4262-b0ae-3b0c29d11bd0",
   "metadata": {},
   "outputs": [],
   "source": [
    "import os\n",
    "import pandas as pd\n",
    "\n",
    "fontsize = 12\n",
    "fontsize14 = 14\n",
    "simulation_path = \"/home/novac/Desktop/Projects/autorun_qv3d/temp/density-4.0e15\""
   ]
  },
  {
   "cell_type": "code",
   "execution_count": 11,
   "id": "d070ad42-89d5-42d1-997f-460550982e28",
   "metadata": {},
   "outputs": [
    {
     "name": "stdout",
     "output_type": "stream",
     "text": [
      "          phase       wmy       wmz      wmvy      wmvz  stdev_y  stdev_z  \\\n",
      "0  1.000000e-10  0.003554  0.005170  0.000021  0.000029  3.92987  3.91515   \n",
      "1  1.191000e+04  0.102993  1.335210 -0.000108  0.000027  4.63249  4.70307   \n",
      "2  2.381000e+04  0.130761 -0.424587 -0.000059 -0.000009  4.07209  4.21949   \n",
      "3  3.571000e+04  0.008364  0.625345  0.000099  0.000051  3.81119  3.85736   \n",
      "4  4.761000e+04  0.064841  0.283902 -0.000090  0.000067  3.52713  3.71416   \n",
      "\n",
      "   stdev_vy  stdev_vz     em_y     em_z       wmg     stdev_g        N  \\\n",
      "0  0.001801  0.001846  2.08504  2.12842   294.542    0.296457  65472.0   \n",
      "1  0.000899  0.000907  3.18302  3.26098   766.761  149.109000  59843.0   \n",
      "2  0.000627  0.000639  3.15537  3.32898  1236.520  258.264000  56982.0   \n",
      "3  0.000507  0.000515  3.28158  3.37510  1699.800  360.703000  55680.0   \n",
      "4  0.000428  0.000431  3.24831  3.44092  2154.640  463.547000  55036.0   \n",
      "\n",
      "             W    lamdap  \n",
      "0  750327000.0  0.052793  \n",
      "1  750278000.0  0.052793  \n",
      "2  750043000.0  0.052793  \n",
      "3  749764000.0  0.052793  \n",
      "4  749603000.0  0.052793  \n"
     ]
    }
   ],
   "source": [
    "csvFile = os.path.join(simulation_path, \"h5files\", \"witness_parameters.csv\")\n",
    "\n",
    "# Load the DataFrame from a CSV file\n",
    "df = pd.read_csv(csvFile)\n",
    "\n",
    "# Display the first few rows of the DataFrame\n",
    "print(df.head())\n"
   ]
  },
  {
   "cell_type": "code",
   "execution_count": 9,
   "id": "436d4ecc-a002-4568-a7c4-7eb37d0a7ce7",
   "metadata": {},
   "outputs": [],
   "source": [
    "#phase wmy wmz wmvy wmvz stdev_y stdev_z stdev_vy stdev_vz em_y em_z wmg stdev_g N W\n"
   ]
  },
  {
   "cell_type": "code",
   "execution_count": null,
   "id": "b53ed4bd-6793-4af0-9c6a-23e4054a8b07",
   "metadata": {},
   "outputs": [],
   "source": [
    "phase = parameters[0]\n",
    "    wmy =  parameters[1]\n",
    "    wmz = parameters[2]\n",
    "    wmvy = parameters[3]\n",
    "    wmvz = parameters[4]\n",
    "    stdev_y = parameters[5]\n",
    "    stdev_z = parameters[6]\n",
    "    stdev_vy = parameters[7]\n",
    "    stdev_vz = parameters[8]\n",
    "    em_y = parameters[9]\n",
    "    em_z = parameters[10]\n",
    "    wmg = parameters[11]       # gamma\n",
    "    stdev_g = parameters[12]   # Dgamma\n",
    "    N = parameters[13]\n",
    "    W = parameters[14]         # calculate charge\n",
    "    lamdap = parameters[15]/100    # [cm]"
   ]
  }
 ],
 "metadata": {
  "kernelspec": {
   "display_name": "Python 3 (ipykernel)",
   "language": "python",
   "name": "python3"
  },
  "language_info": {
   "codemirror_mode": {
    "name": "ipython",
    "version": 3
   },
   "file_extension": ".py",
   "mimetype": "text/x-python",
   "name": "python",
   "nbconvert_exporter": "python",
   "pygments_lexer": "ipython3",
   "version": "3.9.19"
  }
 },
 "nbformat": 4,
 "nbformat_minor": 5
}
