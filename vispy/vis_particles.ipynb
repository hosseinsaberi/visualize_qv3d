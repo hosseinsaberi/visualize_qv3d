{
 "cells": [
  {
   "cell_type": "code",
   "execution_count": 3,
   "id": "9ca5e2d4-2ed3-4262-b0ae-3b0c29d11bd0",
   "metadata": {},
   "outputs": [],
   "source": [
    "import os\n",
    "import pandas as pd\n",
    "\n",
    "fontsize = 12\n",
    "fontsize14 = 14\n",
    "simulation_path = \"/home/novac/Desktop/Projects/autorun_qv3d/simulation-densScan/density-5e14\""
   ]
  },
  {
   "cell_type": "code",
   "execution_count": 4,
   "id": "d070ad42-89d5-42d1-997f-460550982e28",
   "metadata": {},
   "outputs": [
    {
     "name": "stdout",
     "output_type": "stream",
     "text": [
      "       Column_1  Column_2  Column_3  Column_4  Column_5  Column_6  Column_7  \\\n",
      "0  1.000000e-10  0.093254 -0.104826 -0.000064  0.000057   7.38820   7.54146   \n",
      "1  4.210000e+03 -1.619550  2.375710 -0.000102 -0.000020   7.34605   7.53438   \n",
      "2  8.420000e+03 -1.283390  0.407958 -0.000044 -0.000093   6.81352   6.39940   \n",
      "3  1.263000e+04 -0.141065  0.414940 -0.000127 -0.000011   6.29649   6.01363   \n",
      "4  1.684000e+04 -5.050010  0.869559  0.000061  0.000003   6.07205   6.15461   \n",
      "\n",
      "   Column_8  Column_9  Column_10  Column_11  Column_12   Column_13  Column_14  \\\n",
      "0  0.001073  0.001092    2.33453    2.42540    294.552    0.294553     8704.0   \n",
      "1  0.000442  0.000437    2.89141    2.92276    892.352   30.840900     8704.0   \n",
      "2  0.000305  0.000318    3.06886    3.00408   1486.870   61.430400     8704.0   \n",
      "3  0.000252  0.000237    3.28823    2.93969   2078.300   92.435900     8704.0   \n",
      "4  0.000216  0.000199    3.48952    3.26459   2666.780  124.091000     8704.0   \n",
      "\n",
      "     Column_15  Column_16  \n",
      "0  736583000.0    0.14932  \n",
      "1  736583000.0    0.14932  \n",
      "2  736583000.0    0.14932  \n",
      "3  736583000.0    0.14932  \n",
      "4  736583000.0    0.14932  \n"
     ]
    }
   ],
   "source": [
    "csvFile = os.path.join(simulation_path, \"h5files\", \"witness_parameters.csv\")\n",
    "\n",
    "# Load the DataFrame from a CSV file\n",
    "df = pd.read_csv(csvFile)\n",
    "\n",
    "# Display the first few rows of the DataFrame\n",
    "print(df.head())\n"
   ]
  },
  {
   "cell_type": "code",
   "execution_count": null,
   "id": "436d4ecc-a002-4568-a7c4-7eb37d0a7ce7",
   "metadata": {},
   "outputs": [],
   "source": []
  }
 ],
 "metadata": {
  "kernelspec": {
   "display_name": "Python 3 (ipykernel)",
   "language": "python",
   "name": "python3"
  },
  "language_info": {
   "codemirror_mode": {
    "name": "ipython",
    "version": 3
   },
   "file_extension": ".py",
   "mimetype": "text/x-python",
   "name": "python",
   "nbconvert_exporter": "python",
   "pygments_lexer": "ipython3",
   "version": "3.9.19"
  }
 },
 "nbformat": 4,
 "nbformat_minor": 5
}
