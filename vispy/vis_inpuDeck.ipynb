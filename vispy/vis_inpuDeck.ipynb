{
 "cells": [
  {
   "cell_type": "code",
   "execution_count": 1,
   "id": "02293fa0-03ad-4d06-9c93-0be951d70f2c",
   "metadata": {},
   "outputs": [],
   "source": [
    "import numpy as np\n",
    "from scipy.constants import pi, e, hbar, m_e, c, epsilon_0\n",
    "from from_input_deck import extract_value_from_input_deck, find_species_parameter\n"
   ]
  },
  {
   "cell_type": "code",
   "execution_count": 2,
   "id": "93472713-0006-4c29-a91c-fff31140e0c6",
   "metadata": {},
   "outputs": [],
   "source": [
    "directory = \"/home/novac/Desktop/Projects/autorun_qv3d/temp/density-7.0e14\""
   ]
  },
  {
   "cell_type": "code",
   "execution_count": 3,
   "id": "f73dd761-48f7-42d6-aa29-0bd3c8739127",
   "metadata": {},
   "outputs": [],
   "source": [
    "Wavelength = extract_value_from_input_deck(directory, \"Wavelength\")\n",
    "Wavelength *= 1e-2 # in m scale\n",
    "\n",
    "Xlength = extract_value_from_input_deck(directory, \"Xlength\")\n",
    "Ylength = extract_value_from_input_deck(directory, \"Ylength\")\n",
    "Zlength = extract_value_from_input_deck(directory, \"Zlength\")\n",
    "\n",
    "Hx = extract_value_from_input_deck(directory, \"Hx\")\n",
    "NxSplit = extract_value_from_input_deck(directory, \"NxSplit\")\n",
    "Hy = extract_value_from_input_deck(directory, \"Hy\")\n",
    "Hz = extract_value_from_input_deck(directory, \"Hz\")\n",
    "\n",
    "Ts = extract_value_from_input_deck(directory, \"Ts\")\n",
    "\n",
    "Nspecies = extract_value_from_input_deck(directory, \"Nspecies\")\n",
    "\n",
    "PhaseStop = extract_value_from_input_deck(directory, \"PhaseStop\")\n",
    "SavePeriod = extract_value_from_input_deck(directory, \"SavePeriod\")\n",
    "\n",
    "\n",
    "# Electrons\n",
    "# #########\n",
    "plasma_Distribution = find_species_parameter(directory, \"&Electrons\", \"Distribution\")\n",
    "plasma_Density      = find_species_parameter(directory, \"&Electrons\", \"Density\")\n",
    "plasma_P_perCell    = find_species_parameter(directory, \"&Electrons\", \"P_perCell\")\n",
    "plasma_RadiusY      = find_species_parameter(directory, \"&Electrons\", \"RadiusY\")\n",
    "plasma_RadiusZ      = find_species_parameter(directory, \"&Electrons\", \"RadiusZ\")\n",
    "\n",
    "# Driver\n",
    "# ######\n",
    "driver_Distribution = find_species_parameter(directory, \"&Specie1\", \"Distribution\")\n",
    "driver_Density      = find_species_parameter(directory, \"&Specie1\", \"Density\")\n",
    "driver_RadiusX      = find_species_parameter(directory, \"&Specie1\", \"RadiusX\")\n",
    "driver_RadiusY      = find_species_parameter(directory, \"&Specie1\", \"RadiusY\")\n",
    "driver_RadiusZ      = find_species_parameter(directory, \"&Specie1\", \"RadiusZ\")\n",
    "driver_x0           = find_species_parameter(directory, \"&Specie1\", \"x0\")\n",
    "driver_y0           = find_species_parameter(directory, \"&Specie1\", \"y0\")\n",
    "driver_z0           = find_species_parameter(directory, \"&Specie1\", \"z0\")\n",
    "driver_Px0          = find_species_parameter(directory, \"&Specie1\", \"Px0\")\n",
    "driver_Py0          = find_species_parameter(directory, \"&Specie1\", \"Py0\")\n",
    "driver_Pz0          = find_species_parameter(directory, \"&Specie1\", \"Pz0\")\n",
    "driver_P_perCell    = find_species_parameter(directory, \"&Specie1\", \"P_perCell\")\n",
    "\n",
    "# witness\n",
    "# #######\n",
    "witness_Distribution = find_species_parameter(directory, \"&Specie2\", \"Distribution\")\n",
    "witness_Density      = find_species_parameter(directory, \"&Specie2\", \"Density\")\n",
    "witness_RadiusX      = find_species_parameter(directory, \"&Specie2\", \"RadiusX\")\n",
    "witness_RadiusY      = find_species_parameter(directory, \"&Specie2\", \"RadiusY\")\n",
    "witness_RadiusZ      = find_species_parameter(directory, \"&Specie2\", \"RadiusZ\")\n",
    "witness_x0           = find_species_parameter(directory, \"&Specie2\", \"x0\")\n",
    "witness_y0           = find_species_parameter(directory, \"&Specie2\", \"y0\")\n",
    "witness_z0           = find_species_parameter(directory, \"&Specie2\", \"z0\")\n",
    "witness_Px0          = find_species_parameter(directory, \"&Specie2\", \"Px0\")\n",
    "witness_Py0          = find_species_parameter(directory, \"&Specie2\", \"Py0\")\n",
    "witness_Pz0          = find_species_parameter(directory, \"&Specie2\", \"Pz0\")\n",
    "witness_P_perCell    = find_species_parameter(directory, \"&Specie2\", \"P_perCell\")\n"
   ]
  },
  {
   "cell_type": "code",
   "execution_count": 4,
   "id": "35fbfe49-e883-4446-a576-1b72c3d04bef",
   "metadata": {},
   "outputs": [
    {
     "name": "stdout",
     "output_type": "stream",
     "text": [
      "Plasma Wavelength =  0.1262 [cm] =  1262.0 [um]\n",
      "Plasm Density [/cm3]: 7.000e+14\n",
      "kp =  4978.752224389528\n"
     ]
    }
   ],
   "source": [
    "# plasma\n",
    "print('Plasma Wavelength = ', Wavelength*100, '[cm] = ', Wavelength*1e6, '[um]')\n",
    "wp = 2*pi*c/Wavelength\n",
    "kp = wp/c\n",
    "density = wp**2 * epsilon_0 * m_e / e**2\n",
    "print(\"Plasm Density [/cm3]:\", format(density/1e6, \".3e\"))  # 3 decimal places\n",
    "print('kp = ', kp)\n"
   ]
  },
  {
   "cell_type": "code",
   "execution_count": 5,
   "id": "2958be73-3020-40ab-8210-fd4d2f7c571a",
   "metadata": {},
   "outputs": [
    {
     "name": "stdout",
     "output_type": "stream",
     "text": [
      "plasma_P_perCell  = 4 \n",
      "driver_P_perCell  = 1 \n",
      "witness_P_perCell = 16\n"
     ]
    }
   ],
   "source": [
    "# Check particle per cells\n",
    "# ########################\n",
    "print(\"plasma_P_perCell  =\", plasma_P_perCell, \"\\ndriver_P_perCell  =\", driver_P_perCell, \"\\nwitness_P_perCell =\", witness_P_perCell, )"
   ]
  },
  {
   "cell_type": "code",
   "execution_count": 6,
   "id": "87c8025a-1c69-466e-b231-767ed39cd178",
   "metadata": {},
   "outputs": [
    {
     "name": "stdout",
     "output_type": "stream",
     "text": [
      "PERFECT! All transverse dimensions in y and z are identical!\n"
     ]
    }
   ],
   "source": [
    "# Raise error if Y and Z parameters are not identical\n",
    "# ###################################################\n",
    "if Ylength != Zlength:\n",
    "    print('Warning! simulation WINDOW radius in y and z are not identical.')\n",
    "elif Hy != Hz:\n",
    "    print('Warning! WINDOW resolution in y and z are not identical.')\n",
    "elif plasma_RadiusY != plasma_RadiusZ:\n",
    "    print('Warning! PLASMA radius in y and z are not identical.')\n",
    "elif driver_RadiusY != driver_RadiusZ:\n",
    "    print('Warning! DRIVER radius in y and z are not identical.')\n",
    "elif witness_RadiusY != witness_RadiusZ:\n",
    "    print('Warning! WITNESS radius in y and z are not identical.')\n",
    "else:\n",
    "    print('PERFECT! All transverse dimensions in y and z are identical!')"
   ]
  },
  {
   "cell_type": "code",
   "execution_count": 7,
   "id": "4413716b-fb0d-48ea-8238-1b2b95c9907c",
   "metadata": {},
   "outputs": [
    {
     "name": "stdout",
     "output_type": "stream",
     "text": [
      "window_Ylength  = 5.0 \n",
      "plasma_RadiusY  = 5.0 = 1004 [um] \n",
      "driver_RadiusY  = 1.4082 = 200 [um] \n",
      "witness_RadiusY = 0.0405 = 5.75 [um] \n",
      "window_Hy       = 0.05\n"
     ]
    }
   ],
   "source": [
    "# Transverse dimensions\n",
    "# #####################\n",
    "print(\"window_Ylength  =\", Ylength, \"\\nplasma_RadiusY  =\", plasma_RadiusY, \"=\", format(float(plasma_RadiusY)/kp*1e6, \".0f\"), '[um]', \\\n",
    "      \"\\ndriver_RadiusY  =\", driver_RadiusY, \"=\", format(float(driver_RadiusY)/np.sqrt(2)/kp*1e6, \".0f\"), '[um]', \\\n",
    "      \"\\nwitness_RadiusY =\", witness_RadiusY, \"=\", format(float(witness_RadiusY)/np.sqrt(2)/kp*1e6, \".2f\"), '[um]', \\\n",
    "      \"\\nwindow_Hy       =\", Hy)"
   ]
  },
  {
   "cell_type": "code",
   "execution_count": 8,
   "id": "c5cac164-48fb-4aea-913e-4681bc94c2ab",
   "metadata": {},
   "outputs": [
    {
     "name": "stdout",
     "output_type": "stream",
     "text": [
      "window_Xlength  = 10.0 \n",
      "driver_RadiusX  = 0.2816 = 40 [um] \n",
      "witness_RadiusX = 0.4225 = 60.01 [um] \n",
      "window_Hx       = 0.1\n"
     ]
    }
   ],
   "source": [
    "# Longitudinal dimensions\n",
    "# #######################\n",
    "print(\"window_Xlength  =\", Xlength, \\\n",
    "      \"\\ndriver_RadiusX  =\", driver_RadiusX, \"=\", format(float(driver_RadiusX)/np.sqrt(2)/kp*1e6, \".0f\"), '[um]', \\\n",
    "      \"\\nwitness_RadiusX =\", witness_RadiusX, \"=\", format(float(witness_RadiusX)/np.sqrt(2)/kp*1e6, \".2f\"), '[um]', \\\n",
    "      \"\\nwindow_Hx       =\", Hx)"
   ]
  },
  {
   "cell_type": "code",
   "execution_count": 9,
   "id": "e3a9c974-2207-44b3-a2b5-eb179c6dbd04",
   "metadata": {},
   "outputs": [
    {
     "name": "stdout",
     "output_type": "stream",
     "text": [
      "window: Xlength, Hx       = 10.0 -- 0.1 \n",
      "window: Ylength, Hy       = 5.0 -- 0.05 \n",
      "window: Zlength, Hz       = 5.0 -- 0.05\n"
     ]
    }
   ],
   "source": [
    "print(\"window: Xlength, Hx       =\", Xlength, '--', Hx, \\\n",
    "      \"\\nwindow: Ylength, Hy       =\", Ylength, '--', Hy, \\\n",
    "       \"\\nwindow: Zlength, Hz       =\", Zlength, '--', Hz)"
   ]
  },
  {
   "cell_type": "code",
   "execution_count": null,
   "id": "4db7621e-b2e5-495a-9298-4149b695abef",
   "metadata": {},
   "outputs": [],
   "source": []
  }
 ],
 "metadata": {
  "kernelspec": {
   "display_name": "Python 3 (ipykernel)",
   "language": "python",
   "name": "python3"
  },
  "language_info": {
   "codemirror_mode": {
    "name": "ipython",
    "version": 3
   },
   "file_extension": ".py",
   "mimetype": "text/x-python",
   "name": "python",
   "nbconvert_exporter": "python",
   "pygments_lexer": "ipython3",
   "version": "3.9.19"
  }
 },
 "nbformat": 4,
 "nbformat_minor": 5
}
