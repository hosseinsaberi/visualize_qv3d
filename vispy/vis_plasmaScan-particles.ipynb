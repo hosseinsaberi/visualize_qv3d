{
 "cells": [
  {
   "cell_type": "code",
   "execution_count": null,
   "id": "9ca5e2d4-2ed3-4262-b0ae-3b0c29d11bd0",
   "metadata": {},
   "outputs": [],
   "source": [
    "import os\n",
    "import pandas as pd\n",
    "import matplotlib.pyplot as plt\n",
    "from scipy.constants import pi, e, hbar, m_e, c, epsilon_0\n",
    "from particles import beamParameters_inSingleRun\n",
    "\n",
    "# IMPORTANT - import from own scripts in different directories\n",
    "# ############################################################\n",
    "h5data_process    = os.path.join(\"C:\\\\\", \"Users\", \"u55266hs\", \"OneDrive - The University of Manchester\", \"coding\", \"visualize_qv3d\", \"h5data_process\")\n",
    "sys.path.append(h5data_process) # add the directory path into the memory where includes particles.py\n",
    "#from from_input_deck import extract_value_from_input_deck\n",
    "\n",
    "# Enter simulation directory\n",
    "# ###########################\n",
    "#simulation_path = \"/home/novac/Desktop/Projects/autorun_qv3d/temp/density-5.0e15\"  # in linux\n",
    "simulation_path = os.path.join(\"C:\\\\\", \"Users\", \"u55266hs\", \"OneDrive - The University of Manchester\", \"coding\", \"SCARF\", \"density-7e14\")  # in windows"
   ]
  },
  {
   "cell_type": "code",
   "execution_count": null,
   "id": "5136e192-326c-484d-8186-03498f40311e",
   "metadata": {},
   "outputs": [],
   "source": [
    "# Constants\n",
    "# #########\n",
    "E0 = 0.5110e6  # [eV] electron rest energy\n",
    "\n",
    "# Plot optoins\n",
    "# ############\n",
    "fontsize = 12\n",
    "fontsize14 = 14\n",
    "figsize = (7, 4)\n",
    "colors = ['blue', 'orange', 'green', 'red', 'purple', 'cyan', 'navy'] # Define colors for plotting # in windows\n",
    " \n"
   ]
  },
  {
   "cell_type": "code",
   "execution_count": null,
   "id": "d070ad42-89d5-42d1-997f-460550982e28",
   "metadata": {},
   "outputs": [],
   "source": [
    "csvFile = os.path.join(simulation_path, \"h5files\", \"witness_parameters.csv\")\n",
    "\n",
    "beam_df, keys, n0, Ewb = beamParameters_inSingleRun(csvFile)\n"
   ]
  },
  {
   "cell_type": "code",
   "execution_count": null,
   "id": "3511ff6b-f2ea-40f6-b379-a4876b444e7b",
   "metadata": {},
   "outputs": [],
   "source": [
    "beam_df"
   ]
  },
  {
   "cell_type": "code",
   "execution_count": null,
   "id": "8cc7177c-6af8-4c35-b33c-c77d243983ba",
   "metadata": {},
   "outputs": [],
   "source": []
  },
  {
   "cell_type": "code",
   "execution_count": null,
   "id": "65c42e01-498d-4f8f-b88e-412b7fc49b0a",
   "metadata": {},
   "outputs": [],
   "source": []
  }
 ],
 "metadata": {
  "kernelspec": {
   "display_name": "Python 3 (ipykernel)",
   "language": "python",
   "name": "python3"
  },
  "language_info": {
   "codemirror_mode": {
    "name": "ipython",
    "version": 3
   },
   "file_extension": ".py",
   "mimetype": "text/x-python",
   "name": "python",
   "nbconvert_exporter": "python",
   "pygments_lexer": "ipython3",
   "version": "3.11.7"
  }
 },
 "nbformat": 4,
 "nbformat_minor": 5
}
