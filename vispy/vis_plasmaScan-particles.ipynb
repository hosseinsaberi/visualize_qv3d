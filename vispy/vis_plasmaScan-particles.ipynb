{
 "cells": [
  {
   "cell_type": "code",
   "execution_count": 1,
   "id": "9ca5e2d4-2ed3-4262-b0ae-3b0c29d11bd0",
   "metadata": {},
   "outputs": [],
   "source": [
    "import os\n",
    "import pandas as pd\n",
    "import matplotlib.pyplot as plt\n",
    "from scipy.constants import pi, e, hbar, m_e, c, epsilon_0\n",
    "from particles import beamParameters_inSingleRun\n",
    "\n",
    "\n",
    "# IMPORTANT - import from own scripts in different directories\n",
    "# ############################################################\n",
    "h5data_process    = os.path.join(\"C:\\\\\", \"Users\", \"u55266hs\", \"OneDrive - The University of Manchester\", \"coding\", \"visualize_qv3d\", \"h5data_process\")\n",
    "sys.path.append(h5data_process) # add the directory path into the memory where includes particles.py\n",
    "from func import find_folders_with_pattern\n",
    "#from from_input_deck import extract_value_from_input_deck\n",
    "\n",
    "# Constants\n",
    "# #########\n",
    "E0 = 0.5110e6  # [eV] electron rest energy\n",
    "\n",
    "# Plot optoins\n",
    "# ############\n",
    "fontsize = 12\n",
    "fontsize14 = 14\n",
    "figsize = (7, 4)\n",
    "colors = ['blue', 'orange', 'green', 'red', 'purple', 'cyan', 'navy'] # Define colors for plotting # in windows\n",
    "\n",
    "# Enter simulation directory\n",
    "# ###########################\n",
    "#simulation_path = \"/home/novac/Desktop/Projects/autorun_qv3d/temp/density-5.0e15\"  # in linux\n",
    "simulation_path = os.path.join(\"C:\\\\\", \"Users\", \"u55266hs\", \"OneDrive - The University of Manchester\", \"coding\", \"SCARF\", \"clara_plasmaScan_2beam\")  # in windows\n",
    "density_scan_dir_paths = find_folders_with_pattern(simulation_path, 'density')"
   ]
  },
  {
   "cell_type": "code",
   "execution_count": 13,
   "id": "3511ff6b-f2ea-40f6-b379-a4876b444e7b",
   "metadata": {},
   "outputs": [],
   "source": [
    "all_beamdf = []\n",
    "all_densities = []\n",
    "all_Ewb = []\n",
    "for sim_dir in density_scan_dir_paths:\n",
    "    csvFile = os.path.join(sim_dir, \"h5files\", \"witness_parameters.csv\")\n",
    "    beam_df, keys, n0, Ewb, lamdap = beamParameters_inSingleRun(csvFile)\n",
    "    all_beamdf.append(beam_df)\n",
    "    all_densities.append(n0)\n",
    "    all_Ewb.append(Ewb)"
   ]
  },
  {
   "cell_type": "code",
   "execution_count": 14,
   "id": "b8ef6d59-b948-4827-bb16-a351c457caea",
   "metadata": {},
   "outputs": [
    {
     "data": {
      "text/plain": [
       "['position [cm]',\n",
       " 'energy [MeV]',\n",
       " 'energySpread [%]',\n",
       " 'charge [pC]',\n",
       " 'emittance [mm-mrad]']"
      ]
     },
     "execution_count": 14,
     "metadata": {},
     "output_type": "execute_result"
    }
   ],
   "source": [
    "keys"
   ]
  },
  {
   "cell_type": "code",
   "execution_count": 15,
   "id": "8cc7177c-6af8-4c35-b33c-c77d243983ba",
   "metadata": {},
   "outputs": [
    {
     "name": "stdout",
     "output_type": "stream",
     "text": [
      "5.795383152415377\n",
      "5.762507681626117\n",
      "5.304549535050079\n",
      "5.301065155438103\n",
      "5.384694750707787\n",
      "5.330147447566531\n",
      "5.279870047662158\n",
      "5.05257284642191\n",
      "5.053630510524092\n",
      "5.083178696219522\n",
      "5.065787707198161\n",
      "5.027534385859534\n",
      "5.063781697605061\n",
      "5.029071240060136\n",
      "5.060485940302572\n",
      "5.0568652762754125\n",
      "5.02253349744927\n",
      "5.033103956019586\n",
      "5.025883488900235\n",
      "5.0218179005415955\n",
      "5.033389976149275\n"
     ]
    }
   ],
   "source": [
    "all_position = []\n",
    "all_energy = []\n",
    "all_energySpread = []\n",
    "all_charge = []\n",
    "all_emittance = []\n",
    "\n",
    "for df in all_beamdf:\n",
    "    position = df['position [cm]']\n",
    "    energy = df['energy [MeV]']\n",
    "    energySpread = df['energySpread [%]']\n",
    "    charge = df['charge [pC]']\n",
    "    emittance = df['emittance [mm-mrad]']\n",
    "    \n",
    "    # print initial emittance\n",
    "    # #######################\n",
    "    print(emittance[0])\n",
    "\n",
    "    all_position.append(position)\n",
    "    all_energy.append(energy)\n",
    "    all_energySpread.append(energySpread)\n",
    "    all_charge.append(charge)\n",
    "    all_emittance.append(emittance)\n",
    "    "
   ]
  },
  {
   "cell_type": "code",
   "execution_count": 19,
   "id": "17a5b906-415c-473c-b5e6-0162ab6ddd37",
   "metadata": {},
   "outputs": [
    {
     "data": {
      "image/png": "[encoded data removed]",
      "text/plain": [
       "<Figure size 640x480 with 1 Axes>"
      ]
     },
     "metadata": {},
     "output_type": "display_data"
    }
   ],
   "source": [
    "# Create a figure and axis\n",
    "fig, ax = plt.subplots()\n",
    "\n",
    "# Plot the data\n",
    "ax.plot(all_position[0], all_charge[0])\n",
    "\n",
    "# Add labels and title\n",
    "ax.set_xlabel('X-axis Label')\n",
    "ax.set_ylabel('Y-axis Label')\n",
    "ax.set_title('Simple Plot of Two Variables')\n",
    "\n",
    "# Show the plot\n",
    "plt.show()"
   ]
  },
  {
   "cell_type": "code",
   "execution_count": null,
   "id": "98b35bb3-f601-4c3c-99f8-77cb5b9a2b0e",
   "metadata": {},
   "outputs": [],
   "source": []
  }
 ],
 "metadata": {
  "kernelspec": {
   "display_name": "Python 3 (ipykernel)",
   "language": "python",
   "name": "python3"
  },
  "language_info": {
   "codemirror_mode": {
    "name": "ipython",
    "version": 3
   },
   "file_extension": ".py",
   "mimetype": "text/x-python",
   "name": "python",
   "nbconvert_exporter": "python",
   "pygments_lexer": "ipython3",
   "version": "3.11.7"
  }
 },
 "nbformat": 4,
 "nbformat_minor": 5
}
