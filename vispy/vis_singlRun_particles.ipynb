{
 "cells": [
  {
   "cell_type": "code",
   "execution_count": 2,
   "id": "9ca5e2d4-2ed3-4262-b0ae-3b0c29d11bd0",
   "metadata": {},
   "outputs": [],
   "source": [
    "import os\n",
    "import pandas as pd\n",
    "import matplotlib.pyplot as plt\n",
    "from scipy.constants import pi, e, hbar, m_e, c, epsilon_0\n",
    "from particles import calculateBeamParameters\n",
    "\n",
    "# IMPORTANT - import from own scripts in different directories\n",
    "# ############################################################\n",
    "h5data_process    = os.path.join(\"C:\\\\\", \"Users\", \"u55266hs\", \"OneDrive - The University of Manchester\", \"coding\", \"visualize_qv3d\", \"h5data_process\")\n",
    "sys.path.append(h5data_process) # add the directory path into the memory where includes particles.py\n",
    "#from from_input_deck import extract_value_from_input_deck\n",
    "\n",
    "# Enter simulation directory\n",
    "# ###########################\n",
    "#simulation_path = \"/home/novac/Desktop/Projects/autorun_qv3d/temp/density-5.0e15\"  # in linux\n",
    "simulation_path = os.path.join(\"C:\\\\\", \"Users\", \"u55266hs\", \"OneDrive - The University of Manchester\", \"coding\", \"SCARF\", \"density-7e15\")  # in windows"
   ]
  },
  {
   "cell_type": "code",
   "execution_count": 3,
   "id": "5136e192-326c-484d-8186-03498f40311e",
   "metadata": {},
   "outputs": [],
   "source": [
    "# Constants\n",
    "# #########\n",
    "E0 = 0.5110e6  # [eV] electron rest energy\n",
    "\n",
    "# Plot optoins\n",
    "# ############\n",
    "fontsize = 12\n",
    "fontsize14 = 14\n",
    "figsize = (7, 4)\n",
    "colors = ['blue', 'orange', 'green', 'red', 'purple', 'cyan', 'navy'] # Define colors for plotting # in windows\n",
    " \n"
   ]
  },
  {
   "cell_type": "markdown",
   "id": "73ab8ec5-3670-4b31-97f1-1c2482834395",
   "metadata": {},
   "source": [
    "# witness parameters"
   ]
  },
  {
   "cell_type": "code",
   "execution_count": 5,
   "id": "d070ad42-89d5-42d1-997f-460550982e28",
   "metadata": {},
   "outputs": [
    {
     "name": "stdout",
     "output_type": "stream",
     "text": [
      "['phase', 'wmy', 'wmz', 'wmvy', 'wmvz', 'stdev_y', 'stdev_z', 'stdev_vy', 'stdev_vz', 'em_y', 'em_z', 'wmg', 'stdev_g', 'N', 'W', 'lamdap']\n"
     ]
    }
   ],
   "source": [
    "csvFile = os.path.join(simulation_path, \"h5files\", \"witness_parameters.csv\")\n",
    "\n",
    "# Load the DataFrame from a CSV file\n",
    "df = pd.read_csv(csvFile)\n",
    "\n",
    "# Display the first few rows of the DataFrame\n",
    "#print(df.head(10))\n",
    "keys = df.columns.tolist()\n",
    "\n",
    "print(keys)\n"
   ]
  },
  {
   "cell_type": "code",
   "execution_count": 6,
   "id": "131946ba-bce2-4d75-8740-cf672182212d",
   "metadata": {},
   "outputs": [
    {
     "name": "stdout",
     "output_type": "stream",
     "text": [
      "Plasma Density [/cm3] =  7.00e+15\n",
      "Wavebreaking field [GV/m] =  8.05\n"
     ]
    }
   ],
   "source": [
    "wavelength = df['lamdap'][0] * 0.01 # wavlenght in metere\n",
    "wavelength = float(wavelength)\n",
    "wp = 2*pi*c/wavelength\n",
    "kp = wp/c\n",
    "n0 = wp**2 * epsilon_0 * m_e / e**2\n",
    "\n",
    "E_WB = c*m_e*wp/e # wavebreaking field\n",
    "E_WB/=1e9 #GeV\n",
    "\n",
    "print('Plasma Density [/cm3] = ', f\"{n0/1e6:.2e}\")\n",
    "print('Wavebreaking field [GV/m] = ', f\"{E_WB:.2f}\")"
   ]
  },
  {
   "cell_type": "code",
   "execution_count": 7,
   "id": "3511ff6b-f2ea-40f6-b379-a4876b444e7b",
   "metadata": {},
   "outputs": [
    {
     "name": "stdout",
     "output_type": "stream",
     "text": [
      "['position', 'energy', 'energySpread', 'charge', 'emittance']\n"
     ]
    }
   ],
   "source": [
    "position, energy, energySpread, charge, emittance = calculateBeamParameters(df['phase'], df['wmg'], df['stdev_g'], df['W'], \\\n",
    "                                                                            df['em_y'], df['em_z'], wavelength)\n",
    "\n",
    "# Create a dictionary with the arrays\n",
    "BeamParameters = {\n",
    "    'position': position,\n",
    "    'energy': energy,\n",
    "    'energySpread': energySpread,\n",
    "    'charge':charge,\n",
    "    'emittance':emittance   \n",
    "}\n",
    "\n",
    "# Create the DataFrame\n",
    "beam_df = pd.DataFrame(BeamParameters)\n",
    "\n",
    "# Display the first few rows of the DataFrame\n",
    "#print(beam_df.head(10))\n",
    "keys = beam_df.columns.tolist()\n",
    "print(keys)"
   ]
  },
  {
   "cell_type": "code",
   "execution_count": null,
   "id": "8cc7177c-6af8-4c35-b33c-c77d243983ba",
   "metadata": {},
   "outputs": [],
   "source": []
  },
  {
   "cell_type": "code",
   "execution_count": null,
   "id": "65c42e01-498d-4f8f-b88e-412b7fc49b0a",
   "metadata": {},
   "outputs": [],
   "source": []
  }
 ],
 "metadata": {
  "kernelspec": {
   "display_name": "Python 3 (ipykernel)",
   "language": "python",
   "name": "python3"
  },
  "language_info": {
   "codemirror_mode": {
    "name": "ipython",
    "version": 3
   },
   "file_extension": ".py",
   "mimetype": "text/x-python",
   "name": "python",
   "nbconvert_exporter": "python",
   "pygments_lexer": "ipython3",
   "version": "3.11.7"
  }
 },
 "nbformat": 4,
 "nbformat_minor": 5
}
