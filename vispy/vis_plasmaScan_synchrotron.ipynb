{
 "cells": [
  {
   "cell_type": "code",
   "execution_count": 16,
   "id": "f1640ef0-9ffb-4ea7-9e24-33e7cd1a7f7c",
   "metadata": {},
   "outputs": [],
   "source": [
    "import os\n",
    "from func import find_folders_with_pattern\n",
    "import glob\n",
    "import pickle\n",
    "import numpy as np\n",
    "import matplotlib.pyplot as plt\n",
    "#from scipy.integrate import simps\n",
    "import matplotlib.ticker as ticker\n",
    "from from_input_deck import extract_value_from_input_deck\n",
    "#from mpl_toolkits.axes_grid1.inset_locator import inset_axes\n",
    "from scipy.constants import pi, e, hbar, m_e, c, epsilon_0\n",
    "\n",
    "fontsize = 12\n",
    "fontsize14 = 14\n",
    "\n",
    "# in linux\n",
    "# ########\n",
    "#simulation_path = \"/home/novac/Desktop/Projects/autorun_qv3d/temp/density-5.0e15\"\n",
    "\n",
    "# in windows\n",
    "# ##########\n",
    "simulation_path = os.path.join(\"C:\\\\\", \"Users\", \"u55266hs\", \"OneDrive - The University of Manchester\", \"coding\", \"SCARF\")"
   ]
  },
  {
   "cell_type": "code",
   "execution_count": 17,
   "id": "d5d3ebee-5047-46d9-b3b5-0ac385467d06",
   "metadata": {},
   "outputs": [],
   "source": [
    "density_scan_dir_paths = find_folders_with_pattern(simulation_path, 'density')"
   ]
  },
  {
   "cell_type": "markdown",
   "id": "edaa37ef-dfa3-4ed9-b094-9aa2ba210119",
   "metadata": {},
   "source": [
    "# Plot Critical energy vs plasma density"
   ]
  },
  {
   "cell_type": "code",
   "execution_count": 25,
   "id": "ed23d69f-53d1-4dfa-9e4b-dd4842bc568b",
   "metadata": {},
   "outputs": [],
   "source": [
    "all_critical_energy = []\n",
    "all_densities = []\n",
    "for sim_dir in density_scan_dir_paths:\n",
    "\n",
    "    # ######################\n",
    "    # from input deck\n",
    "    # ######################\n",
    "    wavelength = extract_value_from_input_deck(sim_dir, 'Wavelength')\n",
    "    wavelength *= 1e-2\n",
    "    wp = 2*pi*c/wavelength\n",
    "    kp = wp/c\n",
    "    density = wp**2 * epsilon_0 * m_e / e**2\n",
    "    all_densities.append(density/1e6) # append densities in cm\n",
    "    #print(\"Plasm Density [/cm3]:\", format(density/1e6, \".3e\"))  # 3 decimal places\n",
    "\n",
    "    # ######################\n",
    "    # from synchrotron pkl files\n",
    "    # ######################\n",
    "    \n",
    "    # Find all .pkl files\n",
    "    # ####################\n",
    "    pkl_files = glob.glob(f\"{sim_dir}/*.pkl\")\n",
    "\n",
    "\n",
    "    # Load the pickle file\n",
    "    # ####################\n",
    "    pklFile = pkl_files[0]\n",
    "   # print(pklFile)\n",
    "    with open(pklFile, \"rb\") as file:\n",
    "        data = pickle.load(file)\n",
    "\n",
    "    # print the keys\n",
    "    # ##############\n",
    "    #for key in data.keys():\n",
    "       # print(key)\n",
    "\n",
    "    # Unpack dictionary keys into variables\n",
    "    # #####################################\n",
    "    if isinstance(data, dict):\n",
    "        criticalEnergy = data.get(\"criticalEnergy\")\n",
    "        Nphotons_Energy = data.get(\"Nphoton_Energy\")\n",
    "        Nphoton_Theta  = data.get(\"Nphoton_Theta\")\n",
    "        Nphoton_Phi    = data.get(\"Nphoton_Phi\")\n",
    "        Energy         = data.get(\"Energy\")\n",
    "        Theta          = data.get(\"Theta\")\n",
    "        Phi            = data.get(\"Phi\")\n",
    "        phase          = data.get(\"phase\")\n",
    "\n",
    "    all_critical_energy.append(criticalEnergy)"
   ]
  },
  {
   "cell_type": "code",
   "execution_count": 26,
   "id": "cf56f65e-9585-457d-9115-658618bdc260",
   "metadata": {},
   "outputs": [],
   "source": [
    "all_critical_energy = np.array(all_critical_energy)\n",
    "all_densities = np.array(all_densities)"
   ]
  },
  {
   "cell_type": "code",
   "execution_count": 27,
   "id": "17928f21-4ef7-4379-a60f-f97b3bf3a4f6",
   "metadata": {},
   "outputs": [
    {
     "data": {
      "image/png": "[encoded data removed]",
      "text/plain": [
       "<Figure size 800x500 with 1 Axes>"
      ]
     },
     "metadata": {},
     "output_type": "display_data"
    }
   ],
   "source": [
    "def plot_spectrum(Nphotons_Energy, Energy):\n",
    "    fig,ax = plt.subplots(figsize=(8,5))\n",
    "    fig.tight_layout(pad=4.) #set the spacing between subplots\n",
    "\n",
    "    \n",
    "\n",
    "    ax.plot(all_densities,all_critical_energy,c='b') # photon number ~ beta oscillations * number of electrons\n",
    "\n",
    "    ax.set_xscale('log')\n",
    "\n",
    "    ax.set_xlabel('Plasma Density [/cm3]', fontsize=fontsize)\n",
    "    ax.set_ylabel('Critical Energy [eV]', fontsize=fontsize)\n",
    "    ax.tick_params(axis='both',labelsize=fontsize)\n",
    "    #ax.set_ylim(1,2e7)\n",
    "    ax.set_xlim(5e14, 1e17)\n",
    "\n",
    "    ax.xaxis.set_major_locator(ticker.LogLocator(base=10, numticks=10))\n",
    "    #ax.yaxis.set_major_locator(ticker.LogLocator(base=10, numticks=10))\n",
    "    locmin = ticker.LogLocator(base=10.0,subs=(0.1,0.2,0.3,0.4,0.5,0.6,0.7,0.8,0.9),numticks=15)\n",
    "    ax.xaxis.set_minor_locator(locmin)\n",
    "    ax.xaxis.set_minor_formatter(ticker.NullFormatter())\n",
    "\n",
    "    #ax.yaxis.set_minor_locator(locmin)\n",
    "    #ax.yaxis.set_minor_formatter(ticker.NullFormatter())\n",
    "\n",
    "    plt.savefig(\"plasmaScan.pdf\", dpi=100, bbox_inches='tight')\n",
    "    plt.savefig(\"plasmaScan.png\", dpi=100, bbox_inches='tight')\n",
    "\n",
    "    \n",
    "\n",
    "plot_spectrum(Nphotons_Energy, Energy)"
   ]
  },
  {
   "cell_type": "code",
   "execution_count": null,
   "id": "cd579f5f-61b8-4a07-b35c-998662d02a30",
   "metadata": {},
   "outputs": [],
   "source": []
  }
 ],
 "metadata": {
  "kernelspec": {
   "display_name": "Python 3 (ipykernel)",
   "language": "python",
   "name": "python3"
  },
  "language_info": {
   "codemirror_mode": {
    "name": "ipython",
    "version": 3
   },
   "file_extension": ".py",
   "mimetype": "text/x-python",
   "name": "python",
   "nbconvert_exporter": "python",
   "pygments_lexer": "ipython3",
   "version": "3.11.7"
  }
 },
 "nbformat": 4,
 "nbformat_minor": 5
}
