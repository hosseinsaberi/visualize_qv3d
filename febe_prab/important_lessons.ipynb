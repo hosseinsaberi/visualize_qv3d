{
 "cells": [
  {
   "cell_type": "markdown",
   "id": "766d156b-f8d1-41b2-b59b-e149d135ca91",
   "metadata": {},
   "source": [
    "# IMPORTANT Comments"
   ]
  },
  {
   "cell_type": "markdown",
   "id": "66d028e0-d430-4ec6-88d2-e95dc6fa9375",
   "metadata": {},
   "source": [
    "to search *.dat files in currect dir and other subdirectories \n",
    "    \n",
    "    - find . -type f -name \"*.dat\" -exec rm -f {} +"
   ]
  },
  {
   "cell_type": "code",
   "execution_count": null,
   "id": "a0d85b91-746b-4755-b4cd-8a0df2d27fb2",
   "metadata": {},
   "outputs": [],
   "source": []
  }
 ],
 "metadata": {
  "kernelspec": {
   "display_name": "Python 3 (ipykernel)",
   "language": "python",
   "name": "python3"
  },
  "language_info": {
   "codemirror_mode": {
    "name": "ipython",
    "version": 3
   },
   "file_extension": ".py",
   "mimetype": "text/x-python",
   "name": "python",
   "nbconvert_exporter": "python",
   "pygments_lexer": "ipython3",
   "version": "3.9.19"
  }
 },
 "nbformat": 4,
 "nbformat_minor": 5
}
